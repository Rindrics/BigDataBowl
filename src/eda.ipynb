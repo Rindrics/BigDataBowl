{
 "cells": [
  {
   "cell_type": "markdown",
   "metadata": {
    "collapsed": false
   },
   "source": [
    "# EDA of NFL Big Data Bowl 2021"
   ]
  },
  {
   "cell_type": "markdown",
   "metadata": {
    "collapsed": false
   },
   "source": [
    "## Examine data files"
   ]
  },
  {
   "cell_type": "code",
   "execution_count": 10,
   "metadata": {
    "collapsed": false
   },
   "outputs": [
    {
     "data": {
      "text/plain": [
       "['week1.csv',\n",
       " 'week2.csv',\n",
       " 'week3.csv',\n",
       " 'plays.csv',\n",
       " 'week7.csv',\n",
       " 'week6.csv',\n",
       " 'week4.csv',\n",
       " 'week5.csv',\n",
       " 'week12.csv',\n",
       " 'week13.csv',\n",
       " 'week11.csv',\n",
       " 'week10.csv',\n",
       " 'week14.csv',\n",
       " 'week15.csv',\n",
       " 'week17.csv',\n",
       " 'week16.csv',\n",
       " 'players.csv',\n",
       " 'games.csv',\n",
       " 'week8.csv',\n",
       " 'week9.csv']"
      ]
     },
     "execution_count": 10,
     "metadata": {},
     "output_type": "execute_result"
    }
   ],
   "source": [
    "import os\n",
    "os.listdir('../input/nfl-big-data-bowl-2021')"
   ]
  },
  {
   "cell_type": "markdown",
   "metadata": {
    "collapsed": false
   },
   "source": [
    "I found four types of files: `plays.csv`, `playrs.csv`, `games.csv`, and many `week1?[0-9].csv` files."
   ]
  }
 ],
 "metadata": {
  "kernelspec": {
   "argv": [
    "/usr/local/Cellar/jupyterlab/2.2.8/libexec/bin/python3.8",
    "-m",
    "ipykernel_launcher",
    "-f",
    "{connection_file}"
   ],
   "display_name": "Python 3",
   "env": null,
   "interrupt_mode": "signal",
   "language": "python",
   "metadata": null,
   "name": "python3"
  },
  "name": "eda.ipynb"
 },
 "nbformat": 4,
 "nbformat_minor": 4
}
